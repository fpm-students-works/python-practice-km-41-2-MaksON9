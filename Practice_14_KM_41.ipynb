{
 "cells": [
  {
   "cell_type": "markdown",
   "metadata": {
    "id": "FMqboNwO4rVs"
   },
   "source": [
    "# **Курс \"Програмування на мові Python\"**"
   ]
  },
  {
   "cell_type": "markdown",
   "metadata": {
    "id": "A2T6MigL5Z06"
   },
   "source": [
    "## **Практичне зайняття №16**\n",
    "\n",
    "### Тема: \"Декоратори\""
   ]
  },
  {
   "cell_type": "markdown",
   "metadata": {},
   "source": [
    "### **Завдання 1 (3 бали)**\n",
    "\n",
    "Реалізуйте підрахунок площі трикутника з використанням декоратора, який перевірятиме можливість побудови трикутника з трьох введених користувачем сторін.\n",
    "\n",
    "1. Напишіть функцію area_calculation, яка підраховуватиме площу трикутника за трьома сторонами. Для підрахунку можете скористатись формулою Герона.\n",
    "\n",
    "2. Напишіть функцію check, яка перевірятиме правильність введених користувачем значень (значення мають бути додатними числами, не обов'язково цілими).\n",
    "\n",
    "3. Створіть декоратор triangle_ineq, який перевірятиме виконання нерівності трикутрика для трьох заданих користувачем сторін. Навісьте декоратор triangle_ineq на функція area_calculation та перевірте правильність роботи програми."
   ]
  },
  {
   "cell_type": "code",
   "execution_count": 1,
   "metadata": {},
   "outputs": [
    {
     "name": "stdout",
     "output_type": "stream",
     "text": [
      "Площа трикутника: 6.0\n"
     ]
    }
   ],
   "source": [
    "m = int(input('Введіть сторону трикутника: '))\n",
    "i = int(input('Введіть сторону трикутника: '))\n",
    "n = int(input('Введіть сторону трикутника: '))\n",
    "\n",
    "def check(m, i, n):\n",
    "    if m > 0 and i > 0 and n > 0:\n",
    "        return True\n",
    "    return False \n",
    "\n",
    "def triangle_ineq(id):\n",
    "    def deck0(m, i, n):\n",
    "        if m + i > n and m + n > i and i + n > m:\n",
    "            return id(m, i, n)\n",
    "        else:\n",
    "            return 'Ви не побудуєте трикутник'\n",
    "    return deck0\n",
    "\n",
    "@triangle_ineq\n",
    "def area_calculation(m, i, n):\n",
    "    p = (m + i + n)/2\n",
    "    s = (p * (p-m) * (p-i) * (p-n)) ** 0.5\n",
    "    return s\n",
    "\n",
    "if check(m, i, n):\n",
    "    result = area_calculation(m, i, n)\n",
    "    print(f'Площа трикутника: {result}')\n",
    "else:\n",
    "    print('Ви ввели не ті значеня.')"
   ]
  }
 ],
 "metadata": {
  "colab": {
   "collapsed_sections": [],
   "name": "Practice_10-11_KM_01_.ipynb",
   "provenance": []
  },
  "kernelspec": {
   "display_name": "Python 3",
   "name": "python3"
  },
  "language_info": {
   "codemirror_mode": {
    "name": "ipython",
    "version": 3
   },
   "file_extension": ".py",
   "mimetype": "text/x-python",
   "name": "python",
   "nbconvert_exporter": "python",
   "pygments_lexer": "ipython3",
   "version": "3.12.6"
  }
 },
 "nbformat": 4,
 "nbformat_minor": 0
}
