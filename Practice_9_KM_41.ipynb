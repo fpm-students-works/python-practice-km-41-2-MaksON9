{
 "cells": [
  {
   "cell_type": "markdown",
   "metadata": {
    "id": "FMqboNwO4rVs"
   },
   "source": [
    "# **Курс \"Програмування на мові Python\"**"
   ]
  },
  {
   "cell_type": "markdown",
   "metadata": {
    "id": "A2T6MigL5Z06"
   },
   "source": [
    "## **Практичне зайняття №9**\n",
    "\n",
    "### Тема: \"Робота з функціями. Локальні та глобальні змінні\""
   ]
  },
  {
   "cell_type": "markdown",
   "metadata": {
    "id": "cfCdgK2zXm7e"
   },
   "source": [
    "### **Завдання 1 (3 бали)**\n",
    "\n",
    "**Підрахувати визначник матриці, використовуючи правило перестановок.**\n",
    "\n",
    "Функція random_matrix() призначена для створення квадратної матриці випадкових чисел. Її змінювати непотрібно.\n",
    "\n",
    "Приклад використання методу permutations() для створення списку перестановок також подається у комірці з кодом.\n",
    "\n",
    "1) Створити 3 функції: функцію створення списку перестановок, функцію підрахунку добутків та функцію підрахунку загальної суми.\n",
    "\n",
    "2) Кожна функція має супроводжуватись рядком документації, що буде коротко описувати її призначення.\n",
    "\n",
    "3) Розмірність квадратної матриці має вводитись користувачем з клавіатури. Підрахунки виконувати лише в тому разі, якщо користувач введе ціле додатне число.\n",
    "\n",
    "4) Загальний результат повинен підраховуватись за допомогою композиції функцій.\n",
    "\n",
    "За бажанням можна перевірити правильність роботи програми за допомогою функції np.linalg.det(a)."
   ]
  },
  {
   "cell_type": "code",
   "execution_count": null,
   "metadata": {
    "id": "ifNX2M7LXm7f"
   },
   "outputs": [],
   "source": [
    "import numpy as np\n",
    "import itertools\n",
    "\n",
    "def random_matrix(dim):\n",
    "    \"\"\"\n",
    "    The function generates dim x dim array of integers\n",
    "    between 0 and 10.\n",
    "    \"\"\"\n",
    "    matrix = np.random.randint(10, size = (dim, dim))\n",
    "    return matrix\n",
    "\n",
    "def permutations(m):\n",
    "    '''\n",
    "    The function create the list of permutations for different matrices with -m- size.\n",
    "    '''\n",
    "    return list(itertools.permutations(range(m)))\n",
    "\n",
    "def count(matrices_size, permutation):\n",
    "    '''\n",
    "    The function makes multiplications and count them.\n",
    "    '''\n",
    "    multiplications = 1\n",
    "    for i in range(len(permutation)):\n",
    "        multiplications *= matrices_size[i][permutation[i]]\n",
    "    return multiplications\n",
    "\n",
    "def general_sum(matrix):\n",
    "    '''\n",
    "    The function count general sum.\n",
    "    '''\n",
    "    general = permutations(len(matrix))\n",
    "    length = len(matrix)\n",
    "    result = 0\n",
    "    for sum in general:\n",
    "        n = 0 \n",
    "        for id in range(length):\n",
    "            for idv in range(id):  \n",
    "                if sum[idv] > sum[id]:\n",
    "                    n += 1\n",
    "        sign = (-1) ** n\n",
    "        multiplication = count(matrix, sum)\n",
    "        \n",
    "        result += sign * multiplication\n",
    "    return result\n",
    "\n",
    "def checking():\n",
    "    try:\n",
    "        dim = int(input('Enter the size of the matrix (positive number): '))\n",
    "        \n",
    "        if dim <= 0:\n",
    "            raise ValueError('The size of the matrix can`t be lower than \"1\", change it to positive number')\n",
    "        \n",
    "        matrix = random_matrix(dim)\n",
    "        print('Matrix: \\n', matrix)\n",
    "        print('Determinant =', general_sum(matrix))\n",
    "        print('Numpy determinant =',np.linalg.det(matrix))\n",
    "    except ValueError as a:\n",
    "        print('Error:', a)\n",
    "        \n",
    "if __name__ == '__main__':\n",
    "    checking()\n"
   ]
  }
 ],
 "metadata": {
  "colab": {
   "collapsed_sections": [],
   "name": "Practice_7_KM-01_.ipynb",
   "provenance": []
  },
  "kernelspec": {
   "display_name": "Python 3",
   "language": "python",
   "name": "python3"
  },
  "language_info": {
   "codemirror_mode": {
    "name": "ipython",
    "version": 3
   },
   "file_extension": ".py",
   "mimetype": "text/x-python",
   "name": "python",
   "nbconvert_exporter": "python",
   "pygments_lexer": "ipython3",
   "version": "3.12.6"
  }
 },
 "nbformat": 4,
 "nbformat_minor": 0
}
