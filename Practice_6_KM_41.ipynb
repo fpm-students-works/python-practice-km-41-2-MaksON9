{
  "cells": [
    {
      "cell_type": "markdown",
      "metadata": {
        "id": "FMqboNwO4rVs"
      },
      "source": [
        "# **Курс \"Програмування на мові Python\"**"
      ]
    },
    {
      "cell_type": "markdown",
      "metadata": {
        "id": "A2T6MigL5Z06"
      },
      "source": [
        "## **Практичне зайняття №6**\n",
        "### Тема: \"Робота з кортежами, множинами та словниками\""
      ]
    },
    {
      "cell_type": "markdown",
      "metadata": {
        "id": "4AV5CN7N4xja"
      },
      "source": [
        "### **Завдання 1 (1,5 бали)**\n",
        "\n",
        "Напишіть програму, яка визначала б, чи можна з літер однієї фрази скласти іншу фразу. Наприклад:\n",
        "\n",
        "\"William Shakespeare\" -> \"A small spark\"\n",
        "\n",
        "Перша фраза містить 11 унікальних літер (хоча деякі повторюються): a, e, h, i, k, l, m, p, r, s та w. Друга фраза містить 7 унікальних літер: a, k, l, m, p, r та s. Кожна з літер другої фрази зустрічається принаймні один раз у першій фразі.\n",
        "\n",
        "1. Обидві фрази повинні вводитись користувачем з клавіатури.\n",
        "\n",
        "2. Скористайтесь властивістю множин у мові програмування Python для виділення колекції унікальних літер.\n",
        "\n",
        "3. У множину не повинні потрапити пробіли, розділові знаки та інші символи, що не є літерами (скористайтесь методом **isalpha()**). Також усі літери мають бути переведені в нижній або верхній регістр (скористайтесь методами **lower()** або **upper()**).\n",
        "\n",
        "4. Зверніть увагу на те, що літери як в першій, так і вдругій фразі можуть повторюватись. Однак множина унікальних літер другої фрази повинна бути підмножиною множини унікальних літер першої фрази.\n",
        "\n",
        "5. У складі змістовного повідомлення програма повинна виводити множину літер першої фрази, множину літер другої фрази, а також змістовне повідомлення про те, чи можна скласти з літер першої фрази другу фразу."
      ]
    },
    {
      "cell_type": "code",
      "execution_count": null,
      "metadata": {
        "id": "9Mesp1jV4xjb"
      },
      "outputs": [],
      "source": [
        "phrase_1 = input('Enter something: ')\n",
        "phrase_2 = input('Enter something else: ')\n",
        "\n",
        "symbol1 = []\n",
        "for symbol in phrase_1:\n",
        "    if symbol.isalpha():\n",
        "        symbol1.append(symbol.lower())\n",
        "\n",
        "symbol2 = []\n",
        "for symbol in phrase_2:\n",
        "    if symbol.isalpha():\n",
        "        symbol2.append(symbol.lower())\n",
        "    \n",
        "set_1 = set(symbol1)\n",
        "set_2 = set(symbol2)\n",
        "\n",
        "if set_2.issubset(set_1):\n",
        "    print('Your phrase 1 has: ',set_1, ' symbols')\n",
        "    print('Your phrase 2 has: ',set_2, ' symbols')\n",
        "    print('You -Can- create Second phrase from First phrase')\n",
        "elif set_1.issubset(set_2):\n",
        "    print('Your phrase 1 has: ',set_1, ' symbols')\n",
        "    print('Your phrase 2 has: ',set_2, ' symbols')\n",
        "    print('You -Can- create First phrase from Second phrase')\n",
        "else:\n",
        "    print(set_1)\n",
        "    print(set_2)\n",
        "    print('You -CAN`T- create second phrase from the first one')"
      ]
    },
    {
      "cell_type": "markdown",
      "metadata": {
        "id": "t7fqn1NN-J7z"
      },
      "source": [
        "### **Завдання 2 (1,5 бали)**\n",
        "\n",
        "Скрабл (Ерудит) - це настільна гра, в якій від 2 до 4 гравців складають слова з наявних літер на полі розміром 15 х 15. За кожну використану літеру гравець отримує певну кількість балів. Перелік літер та балів, які можна отримати за використання цих літер, подано у таблиці.\n",
        "\n",
        "Бали | Літери\n",
        "--- | ---\n",
        "1 | A, E, I, L, N, O, R, S, T, U\n",
        "2 | D, G\n",
        "3 | B, C, M, P\n",
        "4 | F, H, V, W, Y\n",
        "5 | K\n",
        "8 | J, X\n",
        "10 | Q, Z\n",
        "\n",
        "Напишіть програму, яка підраховує та виводить загальну кількість балів, яку можна отримати за слово, введене користувачем з клавіатури.\n",
        "\n",
        "1. Скористайтесь словником для збереження усіх балів та літер, за які ці бали нараховуються. \n",
        "\n",
        "2. Якщо користувач введе кілька слів, виведіть бали, які можна отримати за кожне з них окремо.\n",
        "\n",
        "3. Якщо користувач введе символи, що не є літерами (окрім пробіла, який можна використовувати для розділення слів), програма має їх ігнорувати.\n",
        "\n",
        "4. Програма повинна приймати літери як верхнього, так і нижнього регістрів.\n",
        "\n",
        "Наприклад, якщо користувач введе \"Hello, World!\", програма повинна вивести:\n",
        "\n",
        "8 9\n",
        "\n",
        "або більш розгорнутий варіант (за бажанням):\n",
        "\n",
        "4+1+1+1+1=8\n",
        "\n",
        "4+1+1+1+2=9"
      ]
    },
    {
      "cell_type": "code",
      "execution_count": null,
      "metadata": {
        "id": "EVY800vg4xjg"
      },
      "outputs": [],
      "source": [
        "words = input('Enter some word or words: ')\n",
        "word = words.split()\n",
        "m = []\n",
        "\n",
        "o = {'A' : 1, 'E' : 1,\n",
        "    'I' : 1, 'L' : 1,\n",
        "    'N' : 1, 'O' : 1,\n",
        "    'R' : 1, 'S' : 1,\n",
        "    'T' : 1, 'U' : 1,\n",
        "    'D' : 2, 'G' : 2,\n",
        "    'B' : 3, 'C' : 3,\n",
        "    'M' : 3, 'P' : 3,\n",
        "    'F' : 4, 'H' : 4,\n",
        "    'V' : 4, 'W' : 4,\n",
        "    'Y' : 4, 'K' : 5,\n",
        "    'J' : 8, 'X' : 8,\n",
        "    'Q' : 10, 'Z' : 10,\n",
        "    }\n",
        "\n",
        "for id in word:\n",
        "    n = 0\n",
        "    for idv in id:\n",
        "        if idv.upper() in o:\n",
        "            n += o[idv.upper()]\n",
        "    m.append(n)\n",
        "    \n",
        "print(' '.join(map(str, m)))\n",
        "\n"
      ]
    }
  ],
  "metadata": {
    "colab": {
      "collapsed_sections": [],
      "name": "Practice_5_KM-03_.ipynb",
      "provenance": []
    },
    "kernelspec": {
      "display_name": "Python 3",
      "language": "python",
      "name": "python3"
    },
    "language_info": {
      "codemirror_mode": {
        "name": "ipython",
        "version": 3
      },
      "file_extension": ".py",
      "mimetype": "text/x-python",
      "name": "python",
      "nbconvert_exporter": "python",
      "pygments_lexer": "ipython3",
      "version": "3.12.6"
    }
  },
  "nbformat": 4,
  "nbformat_minor": 2
}
